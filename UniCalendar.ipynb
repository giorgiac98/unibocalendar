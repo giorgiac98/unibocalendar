{
 "cells": [
  {
   "cell_type": "markdown",
   "metadata": {
    "id": "jSLvppkD2MK3"
   },
   "source": [
    "# Instructions to execute code and add lessons to your calendar\n",
    "* Do ABSOLUTELY step 1, others don't matter https://developers.google.com/calendar/quickstart/python\n",
    "* Place the file credentials.json in the same directory where this notebook is\n",
    "* Execute the first two cells and give authorization to your account\n",
    "* Execute the *check()* function to be sure everything's working\n",
    "* Change any parameter needed to set your options \n",
    "* Execute the *insert_events()* function with your parameters\n",
    "\n",
    "\n",
    "\n"
   ]
  },
  {
   "cell_type": "code",
   "execution_count": null,
   "metadata": {
    "id": "tp4q1dPaZnBI"
   },
   "outputs": [],
   "source": [
    "from __future__ import print_function\n",
    "import datetime\n",
    "import pickle\n",
    "import os.path\n",
    "from googleapiclient.discovery import build\n",
    "from google_auth_oauthlib.flow import InstalledAppFlow\n",
    "from google.auth.transport.requests import Request\n",
    "import requests, json"
   ]
  },
  {
   "cell_type": "code",
   "execution_count": null,
   "metadata": {
    "id": "eJOci3DRH4SN"
   },
   "outputs": [],
   "source": [
    "\n",
    "### AUTHENTICATION\n",
    "# If modifying these scopes, delete the file token.pickle.\n",
    "SCOPES = ['https://www.googleapis.com/auth/calendar']\n",
    "\n",
    "creds = None\n",
    "# The file token.pickle stores the user's access and refresh tokens, and is\n",
    "# created automatically when the authorization flow completes for the first\n",
    "# time.\n",
    "if os.path.exists('/pathto/token.pickle'):\n",
    "    with open('/pathto/token.pickle', 'rb') as token:\n",
    "        creds = pickle.load(token)\n",
    "# If there are no (valid) credentials available, let the user log in.\n",
    "if not creds or not creds.valid:\n",
    "    if creds and creds.expired and creds.refresh_token:\n",
    "        creds.refresh(Request())\n",
    "    else:\n",
    "        # CHANGE WITH YOUR FILE PATH\n",
    "        flow = InstalledAppFlow.from_client_secrets_file(\n",
    "            '/pathto/credentials.json', SCOPES)\n",
    "        creds = flow.run_local_server(port=0)\n",
    "    # Save the credentials for the next run\n",
    "    # CHANGE WITH YOUR FILE PATH\n",
    "    with open('/pathto/token.pickle', 'wb') as token:\n",
    "        pickle.dump(creds, token)\n",
    "        \n",
    "service = build('calendar', 'v3', credentials=creds)"
   ]
  },
  {
   "cell_type": "code",
   "execution_count": null,
   "metadata": {
    "id": "6gNLYK8FH7y_"
   },
   "outputs": [],
   "source": [
    "# Call the Calendar API\n",
    "# prints out the list of your calendars with their id\n",
    "def check():\n",
    "    page_token = None\n",
    "    calendar_list = service.calendarList().list(pageToken=page_token).execute()\n",
    "    for calendar_list_entry in calendar_list['items']:\n",
    "        print(calendar_list_entry['id'], calendar_list_entry['summary'])\n",
    "check()"
   ]
  },
  {
   "cell_type": "code",
   "execution_count": null,
   "metadata": {
    "id": "zbe2gyWFJlfv"
   },
   "outputs": [],
   "source": [
    "# EVENTS INSERT\n",
    "def insert_events(url, fromDate, toDate, notExams=[]):\n",
    "    response = json.loads(requests.get(url).text)\n",
    "\n",
    "    i = 0\n",
    "    fromDate = datetime.datetime.strptime(fromDate, \"%d-%m-%Y\")\n",
    "    toDate = datetime.datetime.strptime(toDate, \"%d-%m-%Y\")\n",
    "    eventDate = datetime.datetime.strptime(response[i]['start'], \"%Y-%m-%dT%H:%M:%S\")\n",
    "    while eventDate < fromDate :\n",
    "        i += 1\n",
    "        eventDate = datetime.datetime.strptime(response[i]['start'], \"%Y-%m-%dT%H:%M:%S\")\n",
    "    \n",
    "    while eventDate <= toDate:\n",
    "        jEvent = response[i]\n",
    "        if jEvent['cod_modulo'] not in notExams:\n",
    "            location = ''\n",
    "            desc = ''\n",
    "            if(len(jEvent['aule']) > 0):\n",
    "                location = jEvent['aule'][0]['des_indirizzo'].replace(' -', ',')\n",
    "                for a in jEvent['aule']:\n",
    "                    desc += a['des_risorsa'] + ', ' + a['des_piano'] + ' - ' + a['des_ubicazione'] + '\\n'\n",
    "            desc += 'Professor: ' + jEvent['docente']\n",
    "            if type(jEvent['teams']) is str:\n",
    "                desc += '\\nTeams: ' + jEvent['teams'] + '\\n'\n",
    "            event = {\n",
    "            'summary': jEvent['cod_modulo'] + ' - ' + jEvent['title'],\n",
    "            'location': location,\n",
    "            'description': desc ,\n",
    "            'start': {\n",
    "                'dateTime': jEvent['start'],\n",
    "                'timeZone': 'Europe/Rome',\n",
    "            },\n",
    "            'end': {\n",
    "                'dateTime': jEvent['end'],\n",
    "                'timeZone': 'Europe/Rome',\n",
    "            },\n",
    "            'reminders': {\n",
    "                'useDefault': False,\n",
    "                'overrides': [\n",
    "                {'method': 'popup', 'minutes': 60},\n",
    "                ],\n",
    "            },\n",
    "            }\n",
    "            # if you want to add it to your primary calendar just use calendarId=\"primary\"\n",
    "            event = service.events().insert(calendarId='primary', body=event).execute()\n",
    "            print('Event created succesfully : %s' % (event.get('htmlLink')))\n",
    "        i += 1\n",
    "        eventDate = datetime.datetime.strptime(response[i]['start'], \"%Y-%m-%dT%H:%M:%S\")"
   ]
  },
  {
   "cell_type": "code",
   "execution_count": null,
   "metadata": {
    "colab": {
     "base_uri": "https://localhost:8080/"
    },
    "id": "Oqm_AUf6NYXM",
    "outputId": "7fd6c668-5635-4a3c-ef02-7bbb63f30692",
    "scrolled": true
   },
   "outputs": [],
   "source": [
    "# PARAMETER url\n",
    "first_year = \"https://corsi.unibo.it/2cycle/artificial-intelligence/timetable/@@orario_reale_json?\"\n",
    "second_year = \"https://corsi.unibo.it/2cycle/artificial-intelligence/timetable/@@orario_reale_json?anno=2&curricula=\"\n",
    "# PARAMETER fromDate\n",
    "#   the initial Date\n",
    "# PARAMETER toDate\n",
    "#   the final date (excluded)\n",
    "# PARAMETER notExams\n",
    "#   a list of the exams that you don't want to be added coded as strings \n",
    "insert_events(second_year,\n",
    "              '20-09-2021',\n",
    "              '26-09-2021',\n",
    "              ['91264'])"
   ]
  }
 ],
 "metadata": {
  "colab": {
   "collapsed_sections": [],
   "name": "UniCalendar.ipynb",
   "provenance": []
  },
  "kernelspec": {
   "display_name": "Python 3",
   "language": "python",
   "name": "python3"
  },
  "language_info": {
   "codemirror_mode": {
    "name": "ipython",
    "version": 3
   },
   "file_extension": ".py",
   "mimetype": "text/x-python",
   "name": "python",
   "nbconvert_exporter": "python",
   "pygments_lexer": "ipython3",
   "version": "3.6.10"
  }
 },
 "nbformat": 4,
 "nbformat_minor": 1
}
